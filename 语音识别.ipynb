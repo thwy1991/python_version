{
 "cells": [
  {
   "cell_type": "code",
   "execution_count": null,
   "metadata": {
    "collapsed": false
   },
   "outputs": [
    {
     "name": "stdout",
     "output_type": "stream",
     "text": [
      "Say something, please.\n"
     ]
    }
   ],
   "source": [
    "import speech  \n",
    "import time  \n",
    "  \n",
    "response = speech.input(\"Say something, please.\")  \n",
    "speech.say(\"You said \" + response)  \n",
    "  \n",
    "def callback(phrase, listener):  \n",
    "    if phrase == \"goodbye\":  \n",
    "        listener.stoplistening()  \n",
    "    speech.say(phrase)  \n",
    "    print phrase  \n",
    "  \n",
    "listener = speech.listenforanything(callback)  \n",
    "while listener.islistening():  \n",
    "    time.sleep(.5) "
   ]
  },
  {
   "cell_type": "code",
   "execution_count": null,
   "metadata": {
    "collapsed": true
   },
   "outputs": [],
   "source": []
  }
 ],
 "metadata": {
  "kernelspec": {
   "display_name": "Python [Root]",
   "language": "python",
   "name": "Python [Root]"
  }
 },
 "nbformat": 4,
 "nbformat_minor": 0
}
